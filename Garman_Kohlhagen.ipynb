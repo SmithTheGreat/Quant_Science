{
  "nbformat": 4,
  "nbformat_minor": 0,
  "metadata": {
    "colab": {
      "provenance": [],
      "authorship_tag": "ABX9TyMxJGxuAQuyv/0UxemmFV5P",
      "include_colab_link": true
    },
    "kernelspec": {
      "name": "python3",
      "display_name": "Python 3"
    },
    "language_info": {
      "name": "python"
    }
  },
  "cells": [
    {
      "cell_type": "markdown",
      "metadata": {
        "id": "view-in-github",
        "colab_type": "text"
      },
      "source": [
        "<a href=\"https://colab.research.google.com/github/SmithTheGreat/Quant_Science/blob/main/Garman_Kohlhagen.ipynb\" target=\"_parent\"><img src=\"https://colab.research.google.com/assets/colab-badge.svg\" alt=\"Open In Colab\"/></a>"
      ]
    },
    {
      "cell_type": "code",
      "execution_count": 2,
      "metadata": {
        "colab": {
          "base_uri": "https://localhost:8080/"
        },
        "id": "5xe5GIPpVZcg",
        "outputId": "5041b7eb-d413-48b1-e3c4-ceb9d0fa624f"
      },
      "outputs": [
        {
          "output_type": "stream",
          "name": "stdout",
          "text": [
            "Enter the FX pair ticker: EXP\n",
            "Enter the spot rate: 62\n",
            "Enter the strike price: 60\n",
            "Enter volatility (decimal): 0.32\n",
            "Enter time to expiration (days): 40\n",
            "Enter domestic risk-free rate (decimal): 0.04\n",
            "Enter foreign risk-free rate (decimal): 0.02\n",
            "\n",
            "Garman–Kohlhagen FX Option Pricing for: EXP\n",
            "Call Price: 3.7703049422879076\n",
            "Put Price: 1.6436084693341186\n"
          ]
        }
      ],
      "source": [
        "from scipy.stats import norm\n",
        "import numpy as np\n",
        "\n",
        "ticker = input(\"Enter the FX pair ticker: \")\n",
        "S0 = float(input(\"Enter the spot rate: \"))\n",
        "K = float(input(\"Enter the strike price: \"))\n",
        "std = float(input(\"Enter volatility (decimal): \"))\n",
        "time = float(input(\"Enter time to expiration (days): \"))\n",
        "time = time / 365\n",
        "r_dom = float(input(\"Enter domestic risk-free rate (decimal): \"))\n",
        "r_for = float(input(\"Enter foreign risk-free rate (decimal): \"))\n",
        "\n",
        "d1 = (np.log(S0/K) + (r_dom - r_for + 0.5*std**2)*time) / (std*np.sqrt(time))\n",
        "d2 = d1 - std*np.sqrt(time)\n",
        "\n",
        "call = S0*np.exp(-r_for*time)*norm.cdf(d1) - K*np.exp(-r_dom*time)*norm.cdf(d2)\n",
        "put = K*np.exp(-r_dom*time)*norm.cdf(-d2) - S0*np.exp(-r_for*time)*norm.cdf(-d1)\n",
        "\n",
        "print(\"\\nGarman–Kohlhagen FX Option Pricing for:\", ticker)\n",
        "print(\"Call Price:\", call)\n",
        "print(\"Put Price:\", put)\n"
      ]
    }
  ]
}