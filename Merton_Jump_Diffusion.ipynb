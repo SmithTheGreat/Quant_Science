{
  "nbformat": 4,
  "nbformat_minor": 0,
  "metadata": {
    "colab": {
      "provenance": [],
      "authorship_tag": "ABX9TyOj4j+k6Qa9HQL8/gg6i36q",
      "include_colab_link": true
    },
    "kernelspec": {
      "name": "python3",
      "display_name": "Python 3"
    },
    "language_info": {
      "name": "python"
    }
  },
  "cells": [
    {
      "cell_type": "markdown",
      "metadata": {
        "id": "view-in-github",
        "colab_type": "text"
      },
      "source": [
        "<a href=\"https://colab.research.google.com/github/SmithTheGreat/Quant_Science/blob/main/Merton_Jump_Diffusion.ipynb\" target=\"_parent\"><img src=\"https://colab.research.google.com/assets/colab-badge.svg\" alt=\"Open In Colab\"/></a>"
      ]
    },
    {
      "cell_type": "markdown",
      "source": [
        "Strengths:\n"\n,
        "\t- Models jumps in asset prices, reflecting events like earnings announcements or crashes\n",
        "\t- More accurate pricing for options far from the strike price\n",
        "Limitations:\n\n",
        "\t- Unrealistic in highly volatile markets to have constant volatility jumps\n",
        "\t- Difficult to accurately estimate jump intensity, mean, and variance\n",
        "\t- Volatility itself is not modeled as a random process\n",
        "\t- Risk of fitting historical data too closely, reducing predictive reliability\n",
        "\t- Assumes jumps and diffusion are independent, which may not be true in reality"
      ],
      "metadata": {
        "id": "UOHWVuT-WwUH"
      }
    },
    {
      "cell_type": "code",
      "execution_count": 5,
      "metadata": {
        "colab": {
          "base_uri": "https://localhost:8080/"
        },
        "id": "lppduC6HV_2C",
        "outputId": "1a33c81c-9d3f-4a02-8c6f-6f4ab806116b"
      },
      "outputs": [
        {
          "output_type": "stream",
          "name": "stdout",
          "text": [
            "Enter the stock ticker: EXP\n",
            "Enter the current stock price: 62\n",
            "Enter the strike price: 60\n",
            "Enter the stock volatility (decimal): 0.32\n",
            "Enter time to expiration (days): 40\n",
            "Enter risk-free rate (decimal): 0.04\n",
            "Enter jump intensity (lambda, jumps per year): 1\n",
            "Enter mean of jump size in log space (m): 0.02\n",
            "Enter std deviation of jump size in log space (delta): 0.1\n",
            "\n",
            "Merton Jump–Diffusion Option Pricing for: EXP\n",
            "Call Price: 3.946956854867532\n",
            "Put Price: 1.6845187832120132\n"
          ]
        }
      ],
      "source": [
        "from scipy.stats import norm\n",
        "import numpy as np\n",
        "import math\n",
        "from math import factorial\n",
        "\n",
        "ticker = input(\"Enter the stock ticker: \")\n",
        "S0 = float(input(\"Enter the current stock price: \"))\n",
        "K = float(input(\"Enter the strike price: \"))\n",
        "std = float(input(\"Enter the stock volatility (decimal): \"))\n",
        "time = float(input(\"Enter time to expiration (days): \"))\n",
        "time = time / 365\n",
        "rate = float(input(\"Enter risk-free rate (decimal): \"))\n",
        "lam = float(input(\"Enter jump intensity (lambda, jumps per year): \"))\n",
        "m = float(input(\"Enter mean of jump size in log space (m): \"))\n",
        "delta = float(input(\"Enter std deviation of jump size in log space (delta): \"))\n",
        "\n",
        "kappa = np.exp(m + 0.5*delta**2) - 1\n",
        "\n",
        "def bs_call(S, K, r, sigma, T):\n",
        "    d1 = (np.log(S/K) + (r + 0.5*sigma**2)*T) / (sigma*np.sqrt(T))\n",
        "    d2 = d1 - sigma*np.sqrt(T)\n",
        "    return S*norm.cdf(d1) - K*np.exp(-r*T)*norm.cdf(d2)\n",
        "\n",
        "N = 20\n",
        "call = 0\n",
        "for n in range(N+1):\n",
        "    Pn = np.exp(-lam*time) * (lam*time)**n / factorial(n)\n",
        "    S_adj = S0 * np.exp(n*m)\n",
        "    sigma_adj = np.sqrt(std**2 + n*delta**2/time)\n",
        "    r_adj = rate - lam*kappa\n",
        "    call += Pn * bs_call(S_adj, K, r_adj, sigma_adj, time)\n",
        "\n",
        "put = call - S0 + K*np.exp(-rate*time)\n",
        "\n",
        "print(\"\\nMerton Jump–Diffusion Option Pricing for:\", ticker)\n",
        "print(\"Call Price:\", call)\n",
        "print(\"Put Price:\", put)\n"
      ]
    },
    {
      "cell_type": "code",
      "source": [],
      "metadata": {
        "id": "5NBxBwVNYABZ"
      },
      "execution_count": null,
      "outputs": []
    }
  ]
}
