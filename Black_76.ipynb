{
  "nbformat": 4,
  "nbformat_minor": 0,
  "metadata": {
    "colab": {
      "provenance": [],
      "authorship_tag": "ABX9TyM6DJ7q9LPI/ycE2U3z8fXS",
      "include_colab_link": true
    },
    "kernelspec": {
      "name": "python3",
      "display_name": "Python 3"
    },
    "language_info": {
      "name": "python"
    }
  },
  "cells": [
    {
      "cell_type": "markdown",
      "metadata": {
        "id": "view-in-github",
        "colab_type": "text"
      },
      "source": [
        "<a href=\"https://colab.research.google.com/github/SmithTheGreat/Quant_Science/blob/main/Black_76.ipynb\" target=\"_parent\"><img src=\"https://colab.research.google.com/assets/colab-badge.svg\" alt=\"Open In Colab\"/></a>"
      ]
    },
    {
      "cell_type": "code",
      "execution_count": 2,
      "metadata": {
        "colab": {
          "base_uri": "https://localhost:8080/"
        },
        "id": "RJHz2yV4U0le",
        "outputId": "590ba00f-b691-40fc-8f55-4365d37182e2"
      },
      "outputs": [
        {
          "output_type": "stream",
          "name": "stdout",
          "text": [
            "Enter the futures ticker: EXP\n",
            "Enter the current futures price: 62\n",
            "Enter the strike price: 60\n",
            "Enter the volatility (decimal form): 0.32\n",
            "Enter the time to expiration (days): 40\n",
            "Enter the risk free rate (decimal form): 0.04\n",
            "\n",
            "Black–76 Option Pricing for: EXP\n",
            "Call Price: 3.6828936457815393\n",
            "Put Price: 1.6916415815033934\n"
          ]
        }
      ],
      "source": [
        "from scipy.stats import norm\n",
        "import numpy as np\n",
        "\n",
        "ticker = input(\"Enter the futures ticker: \")\n",
        "F0 = float(input(\"Enter the current futures price: \"))\n",
        "K = float(input(\"Enter the strike price: \"))\n",
        "std = float(input(\"Enter the volatility (decimal form): \"))\n",
        "time = float(input(\"Enter the time to expiration (days): \"))\n",
        "time = time / 365\n",
        "rate = float(input(\"Enter the risk free rate (decimal form): \"))\n",
        "\n",
        "d1 = (np.log(F0/K) + 0.5*std**2*time) / (std*np.sqrt(time))\n",
        "d2 = d1 - std*np.sqrt(time)\n",
        "\n",
        "call = np.exp(-rate*time)*(F0*norm.cdf(d1) - K*norm.cdf(d2))\n",
        "put = np.exp(-rate*time)*(K*norm.cdf(-d2) - F0*norm.cdf(-d1))\n",
        "\n",
        "print(\"\\nBlack–76 Option Pricing for:\", ticker)\n",
        "print(\"Call Price:\", call)\n",
        "print(\"Put Price:\", put)\n"
      ]
    }
  ]
}
