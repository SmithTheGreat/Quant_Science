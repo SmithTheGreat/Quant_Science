{
  "nbformat": 4,
  "nbformat_minor": 0,
  "metadata": {
    "colab": {
      "provenance": []
    },
    "kernelspec": {
      "name": "python3",
      "display_name": "Python 3"
    },
    "language_info": {
      "name": "python"
    }
  },
  "cells": [
      {
      "cell_type": "markdown",
      "metadata": {},
      "source": [
        "###Strengths:\n",
        "\t-Provides a consistent, standardized framework for pricing European style options\n",
        "\t-Simple and fast closed-form solution, efficient for real-time calculations\n",
        "\t-Widely accepted and used as a benchmark in financial markets\n",
        "\n",
        "### Limitations:\n",
        "\t-Assumes constant volatility, which is unrealistic in markets\n",
        "\t-Only valid for European options, cannot handle early exercise\n",
        "\t-Ignores dividends and transaction costs, which can affect pricing\n",
        "\t-May not capture extreme events"
      ]
    },
    {
      "cell_type": "code",
      "execution_count": null,
      "metadata": {
        "colab": {
          "base_uri": "https://localhost:8080/"
        },
        "id": "tA5oYk1iNW7v",
        "outputId": "3dec9347-0b6e-43e3-e1b8-bc553aa58d5b"
      },
      "outputs": [
        {
          "output_type": "stream",
          "name": "stdout",
          "text": [
            "Enter the stock ticker: EXP\n",
            "Enter the current stock price: 62\n",
            "Enter the exercise price: 60\n",
            "Enter the stock volatility(standard deviation): 0.32\n",
            "Enter the time to expiration(days): 40\n",
            "Enter the risk free rate of return: 0.04\n",
            "Stock: EXP\n",
            "\n",
            "d1: 0.40387905304771715\n",
            "\n",
            "d2: 0.29794549930661407\n",
            "\n",
            "N(d1): 0.6568491697390297\n",
            "N(d2): 0.6171276196853517\n",
            "Call Price: 3.858949125174327\n"
          ]
        }
      ],
      "source": [
        "from scipy.stats import norm\n",
        "import numpy as np;\n",
        "\n",
        "ticker = input(\"Enter the stock ticker: \")\n",
        "curr = float(input(\"Enter the current stock price: \"))\n",
        "x = float(input(\"Enter the exercise price: \"))\n",
        "std = float(input(\"Enter the stock volatility(standard deviation) in decimal form: \"))\n",
        "time = float(input(\"Enter the time to expiration(days): \"))\n",
        "time = time/365\n",
        "rate = float(input(\"Enter the risk free rate of return in decimal form: \"))\n",
        "\n",
        "print(\"Stock: \" + ticker + \"\\n\")\n",
        "\n",
        "d1 = ((np.log(curr/x)+(rate+(std**2)/2)*time)/(std*np.sqrt(time)))\n",
        "d2 = (d1-std*np.sqrt(time))\n",
        "\n",
        "print(\"d1: \" + str(d1) + \"\\n\")\n",
        "print(\"d2: \" + str(d2) + \"\\n\")\n",
        "\n",
        "print(\"N(d1): \" + str(norm.cdf(d1)))\n",
        "print(\"N(d2): \" + str(norm.cdf(d2)))\n",
        "\n",
        "print(\"Call Price: \" + str((norm.cdf(d1)*curr)-(norm.cdf(d2)*x*np.exp(-rate*time))))"
      ]
    }
  ]
}
